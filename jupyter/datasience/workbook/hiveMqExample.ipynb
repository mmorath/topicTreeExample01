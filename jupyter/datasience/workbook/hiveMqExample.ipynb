{
 "cells": [
  {
   "cell_type": "code",
   "execution_count": 1,
   "id": "fb57e9fa-2dea-48dc-831a-cb6f40e72aad",
   "metadata": {},
   "outputs": [
    {
     "name": "stdout",
     "output_type": "stream",
     "text": [
      "Collecting paho-mqtt\n",
      "  Downloading paho-mqtt-1.6.1.tar.gz (99 kB)\n",
      "\u001b[2K     \u001b[90m━━━━━━━━━━━━━━━━━━━━━━━━━━━━━━━━━━━━━━━━\u001b[0m \u001b[32m99.4/99.4 kB\u001b[0m \u001b[31m2.9 MB/s\u001b[0m eta \u001b[36m0:00:00\u001b[0m\n",
      "\u001b[?25h  Preparing metadata (setup.py) ... \u001b[?25ldone\n",
      "\u001b[?25hBuilding wheels for collected packages: paho-mqtt\n",
      "  Building wheel for paho-mqtt (setup.py) ... \u001b[?25ldone\n",
      "\u001b[?25h  Created wheel for paho-mqtt: filename=paho_mqtt-1.6.1-py3-none-any.whl size=62118 sha256=bd67bd7937ec76990a8ef6f72eed6c2b7a37468aa72b3452a5f2bf07765d233a\n",
      "  Stored in directory: /home/jovyan/.cache/pip/wheels/29/ea/a5/ba9a63aaf4cd4e16e8a87ee31fb4d11b04ff5e1735d312619a\n",
      "Successfully built paho-mqtt\n",
      "Installing collected packages: paho-mqtt\n",
      "Successfully installed paho-mqtt-1.6.1\n",
      "Note: you may need to restart the kernel to use updated packages.\n"
     ]
    }
   ],
   "source": [
    "pip install paho-mqtt"
   ]
  },
  {
   "cell_type": "code",
   "execution_count": 2,
   "id": "adf32256-aa3a-4905-a24f-73cc2a7a220a",
   "metadata": {},
   "outputs": [
    {
     "name": "stdout",
     "output_type": "stream",
     "text": [
      "CONNACK received with code Success.\n",
      "Subscribed: 1 [<paho.mqtt.reasoncodes.ReasonCodes object at 0x7f16b8636110>]\n",
      "eh/gb01/n02/01/035/bystronic01/airpessure/machineNr 0 b'{\"variable\": \"machineNr\", \"value\": \"Pamaxy\", \"unit\": \"machine\"}'\n",
      "eh/gb01/n02/01/035/bystronic01/airpessure/MachineState 0 b'{\"variable\": \"MachineState\", \"value\": \"Idle\", \"unit\": \"state\"}'\n",
      "eh/gb01/n02/01/035/bystronic01/airpessure/OrderId 0 b'{\"variable\": \"OrderId\", \"value\": 123456030, \"unit\": \"id\"}'\n",
      "eh/gb01/n02/01/035/bystronic01/airpessure/Workorder 0 b'{\"variable\": \"Workorder\", \"value\": 123456, \"unit\": \"id\"}'\n",
      "eh/gb01/n02/01/035/bystronic01/airpessure/Afo 0 b'{\"variable\": \"Afo\", \"value\": \"30\", \"unit\": \"code\"}'\n",
      "eh/gb01/n02/01/035/bystronic01/airpessure/Partnumber 0 b'{\"variable\": \"Partnumber\", \"value\": 1234567890, \"unit\": \"id\"}'\n",
      "eh/gb01/n02/01/035/bystronic01/airpessure/wrkDescrptn 0 b'{\"variable\": \"wrkDescrptn\", \"value\": \"BLECH\", \"unit\": \"text\"}'\n",
      "eh/gb01/n02/01/035/bystronic01/airpessure/NomQuantity 0 b'{\"variable\": \"NomQuantity\", \"value\": 10, \"unit\": \"pieces\"}'\n",
      "eh/gb01/n02/01/035/bystronic01/airpessure/ActQuantity 0 b'{\"variable\": \"ActQuantity\", \"value\": 5, \"unit\": \"pieces\"}'\n",
      "eh/gb01/n02/01/035/bystronic01/airpessure/Startdate 0 b'{\"variable\": \"Startdate\", \"value\": \"1900-01-01\", \"unit\": \"date\"}'\n",
      "eh/gb01/n02/01/035/bystronic01/airpessure/Nomsetuptm 0 b'{\"variable\": \"Nomsetuptm\", \"value\": 30, \"unit\": \"minutes\"}'\n",
      "eh/gb01/n02/01/035/bystronic01/airpessure/ActSetuptm 0 b'{\"variable\": \"ActSetuptm\", \"value\": 20, \"unit\": \"minutes\"}'\n",
      "eh/gb01/n02/01/035/bystronic01/airpessure/NomRuntime 0 b'{\"variable\": \"NomRuntime\", \"value\": 200, \"unit\": \"minutes\"}'\n",
      "eh/gb01/n02/01/035/bystronic01/airpessure/ActRunmtime 0 b'{\"variable\": \"ActRunmtime\", \"value\": 180, \"unit\": \"minutes\"}'\n",
      "eh/gb01/n02/01/035/bystronic01/airpessure/machineGrp 0 b'{\"variable\": \"machineGrp\", \"value\": \"0C12\", \"unit\": \"group\"}'\n",
      "eh/gb01/n02/01/035/bystronic01/airpessure/machineNr 0 b'{\"variable\": \"machineNr\", \"value\": \"Pamaxy\", \"unit\": \"machine\"}'\n",
      "eh/gb01/n02/01/035/bystronic01/airpessure/MachineState 0 b'{\"variable\": \"MachineState\", \"value\": \"Idle\", \"unit\": \"state\"}'\n",
      "eh/gb01/n02/01/035/bystronic01/airpessure/OrderId 0 b'{\"variable\": \"OrderId\", \"value\": 123456030, \"unit\": \"id\"}'\n",
      "eh/gb01/n02/01/035/bystronic01/airpessure/Workorder 0 b'{\"variable\": \"Workorder\", \"value\": 123456, \"unit\": \"id\"}'\n",
      "eh/gb01/n02/01/035/bystronic01/airpessure/Afo 0 b'{\"variable\": \"Afo\", \"value\": \"30\", \"unit\": \"code\"}'\n",
      "eh/gb01/n02/01/035/bystronic01/airpessure/Partnumber 0 b'{\"variable\": \"Partnumber\", \"value\": 1234567890, \"unit\": \"id\"}'\n",
      "eh/gb01/n02/01/035/bystronic01/airpessure/wrkDescrptn 0 b'{\"variable\": \"wrkDescrptn\", \"value\": \"BLECH\", \"unit\": \"text\"}'\n",
      "eh/gb01/n02/01/035/bystronic01/airpessure/NomQuantity 0 b'{\"variable\": \"NomQuantity\", \"value\": 10, \"unit\": \"pieces\"}'\n",
      "eh/gb01/n02/01/035/bystronic01/airpessure/ActQuantity 0 b'{\"variable\": \"ActQuantity\", \"value\": 5, \"unit\": \"pieces\"}'\n",
      "eh/gb01/n02/01/035/bystronic01/airpessure/Startdate 0 b'{\"variable\": \"Startdate\", \"value\": \"1900-01-01\", \"unit\": \"date\"}'\n",
      "eh/gb01/n02/01/035/bystronic01/airpessure/Nomsetuptm 0 b'{\"variable\": \"Nomsetuptm\", \"value\": 30, \"unit\": \"minutes\"}'\n",
      "eh/gb01/n02/01/035/bystronic01/airpessure/ActSetuptm 0 b'{\"variable\": \"ActSetuptm\", \"value\": 20, \"unit\": \"minutes\"}'\n",
      "eh/gb01/n02/01/035/bystronic01/airpessure/NomRuntime 0 b'{\"variable\": \"NomRuntime\", \"value\": 200, \"unit\": \"minutes\"}'\n",
      "eh/gb01/n02/01/035/bystronic01/airpessure/ActRunmtime 0 b'{\"variable\": \"ActRunmtime\", \"value\": 180, \"unit\": \"minutes\"}'\n",
      "eh/gb01/n02/01/035/bystronic01/airpessure/machineGrp 0 b'{\"variable\": \"machineGrp\", \"value\": \"0C12\", \"unit\": \"group\"}'\n",
      "eh/gb01/n02/01/035/bystronic01/airpessure/machineNr 0 b'{\"variable\": \"machineNr\", \"value\": \"Pamaxy\", \"unit\": \"machine\"}'\n",
      "eh/gb01/n02/01/035/bystronic01/airpessure/MachineState 0 b'{\"variable\": \"MachineState\", \"value\": \"Idle\", \"unit\": \"state\"}'\n",
      "eh/gb01/n02/01/035/bystronic01/airpessure/OrderId 0 b'{\"variable\": \"OrderId\", \"value\": 123456030, \"unit\": \"id\"}'\n",
      "eh/gb01/n02/01/035/bystronic01/airpessure/Workorder 0 b'{\"variable\": \"Workorder\", \"value\": 123456, \"unit\": \"id\"}'\n",
      "eh/gb01/n02/01/035/bystronic01/airpessure/Afo 0 b'{\"variable\": \"Afo\", \"value\": \"30\", \"unit\": \"code\"}'\n",
      "eh/gb01/n02/01/035/bystronic01/airpessure/Partnumber 0 b'{\"variable\": \"Partnumber\", \"value\": 1234567890, \"unit\": \"id\"}'\n",
      "eh/gb01/n02/01/035/bystronic01/airpessure/wrkDescrptn 0 b'{\"variable\": \"wrkDescrptn\", \"value\": \"BLECH\", \"unit\": \"text\"}'\n",
      "eh/gb01/n02/01/035/bystronic01/airpessure/NomQuantity 0 b'{\"variable\": \"NomQuantity\", \"value\": 10, \"unit\": \"pieces\"}'\n",
      "eh/gb01/n02/01/035/bystronic01/airpessure/ActQuantity 0 b'{\"variable\": \"ActQuantity\", \"value\": 5, \"unit\": \"pieces\"}'\n",
      "eh/gb01/n02/01/035/bystronic01/airpessure/Startdate 0 b'{\"variable\": \"Startdate\", \"value\": \"1900-01-01\", \"unit\": \"date\"}'\n",
      "eh/gb01/n02/01/035/bystronic01/airpessure/Nomsetuptm 0 b'{\"variable\": \"Nomsetuptm\", \"value\": 30, \"unit\": \"minutes\"}'\n",
      "eh/gb01/n02/01/035/bystronic01/airpessure/ActSetuptm 0 b'{\"variable\": \"ActSetuptm\", \"value\": 20, \"unit\": \"minutes\"}'\n",
      "eh/gb01/n02/01/035/bystronic01/airpessure/NomRuntime 0 b'{\"variable\": \"NomRuntime\", \"value\": 200, \"unit\": \"minutes\"}'\n",
      "eh/gb01/n02/01/035/bystronic01/airpessure/ActRunmtime 0 b'{\"variable\": \"ActRunmtime\", \"value\": 180, \"unit\": \"minutes\"}'\n",
      "eh/gb01/n02/01/035/bystronic01/airpessure/machineGrp 0 b'{\"variable\": \"machineGrp\", \"value\": \"0C12\", \"unit\": \"group\"}'\n",
      "eh/gb01/n02/01/035/bystronic01/airpessure/machineNr 0 b'{\"variable\": \"machineNr\", \"value\": \"Pamaxy\", \"unit\": \"machine\"}'\n",
      "eh/gb01/n02/01/035/bystronic01/airpessure/MachineState 0 b'{\"variable\": \"MachineState\", \"value\": \"Idle\", \"unit\": \"state\"}'\n",
      "eh/gb01/n02/01/035/bystronic01/airpessure/OrderId 0 b'{\"variable\": \"OrderId\", \"value\": 123456030, \"unit\": \"id\"}'\n",
      "eh/gb01/n02/01/035/bystronic01/airpessure/Workorder 0 b'{\"variable\": \"Workorder\", \"value\": 123456, \"unit\": \"id\"}'\n",
      "eh/gb01/n02/01/035/bystronic01/airpessure/Afo 0 b'{\"variable\": \"Afo\", \"value\": \"30\", \"unit\": \"code\"}'\n",
      "eh/gb01/n02/01/035/bystronic01/airpessure/Partnumber 0 b'{\"variable\": \"Partnumber\", \"value\": 1234567890, \"unit\": \"id\"}'\n",
      "eh/gb01/n02/01/035/bystronic01/airpessure/wrkDescrptn 0 b'{\"variable\": \"wrkDescrptn\", \"value\": \"BLECH\", \"unit\": \"text\"}'\n",
      "eh/gb01/n02/01/035/bystronic01/airpessure/NomQuantity 0 b'{\"variable\": \"NomQuantity\", \"value\": 10, \"unit\": \"pieces\"}'\n",
      "eh/gb01/n02/01/035/bystronic01/airpessure/ActQuantity 0 b'{\"variable\": \"ActQuantity\", \"value\": 5, \"unit\": \"pieces\"}'\n",
      "eh/gb01/n02/01/035/bystronic01/airpessure/Startdate 0 b'{\"variable\": \"Startdate\", \"value\": \"1900-01-01\", \"unit\": \"date\"}'\n",
      "eh/gb01/n02/01/035/bystronic01/airpessure/Nomsetuptm 0 b'{\"variable\": \"Nomsetuptm\", \"value\": 30, \"unit\": \"minutes\"}'\n",
      "eh/gb01/n02/01/035/bystronic01/airpessure/ActSetuptm 0 b'{\"variable\": \"ActSetuptm\", \"value\": 20, \"unit\": \"minutes\"}'\n",
      "eh/gb01/n02/01/035/bystronic01/airpessure/NomRuntime 0 b'{\"variable\": \"NomRuntime\", \"value\": 200, \"unit\": \"minutes\"}'\n",
      "eh/gb01/n02/01/035/bystronic01/airpessure/ActRunmtime 0 b'{\"variable\": \"ActRunmtime\", \"value\": 180, \"unit\": \"minutes\"}'\n",
      "eh/gb01/n02/01/035/bystronic01/airpessure/machineGrp 0 b'{\"variable\": \"machineGrp\", \"value\": \"0C12\", \"unit\": \"group\"}'\n",
      "eh/gb01/n02/01/035/bystronic01/airpessure/machineNr 0 b'{\"variable\": \"machineNr\", \"value\": \"Pamaxy\", \"unit\": \"machine\"}'\n",
      "eh/gb01/n02/01/035/bystronic01/airpessure/MachineState 0 b'{\"variable\": \"MachineState\", \"value\": \"Idle\", \"unit\": \"state\"}'\n",
      "eh/gb01/n02/01/035/bystronic01/airpessure/OrderId 0 b'{\"variable\": \"OrderId\", \"value\": 123456030, \"unit\": \"id\"}'\n",
      "eh/gb01/n02/01/035/bystronic01/airpessure/Workorder 0 b'{\"variable\": \"Workorder\", \"value\": 123456, \"unit\": \"id\"}'\n",
      "eh/gb01/n02/01/035/bystronic01/airpessure/Afo 0 b'{\"variable\": \"Afo\", \"value\": \"30\", \"unit\": \"code\"}'\n",
      "eh/gb01/n02/01/035/bystronic01/airpessure/Partnumber 0 b'{\"variable\": \"Partnumber\", \"value\": 1234567890, \"unit\": \"id\"}'\n",
      "eh/gb01/n02/01/035/bystronic01/airpessure/wrkDescrptn 0 b'{\"variable\": \"wrkDescrptn\", \"value\": \"BLECH\", \"unit\": \"text\"}'\n",
      "eh/gb01/n02/01/035/bystronic01/airpessure/NomQuantity 0 b'{\"variable\": \"NomQuantity\", \"value\": 10, \"unit\": \"pieces\"}'\n",
      "eh/gb01/n02/01/035/bystronic01/airpessure/ActQuantity 0 b'{\"variable\": \"ActQuantity\", \"value\": 5, \"unit\": \"pieces\"}'\n",
      "eh/gb01/n02/01/035/bystronic01/airpessure/Startdate 0 b'{\"variable\": \"Startdate\", \"value\": \"1900-01-01\", \"unit\": \"date\"}'\n",
      "eh/gb01/n02/01/035/bystronic01/airpessure/Nomsetuptm 0 b'{\"variable\": \"Nomsetuptm\", \"value\": 30, \"unit\": \"minutes\"}'\n",
      "eh/gb01/n02/01/035/bystronic01/airpessure/ActSetuptm 0 b'{\"variable\": \"ActSetuptm\", \"value\": 20, \"unit\": \"minutes\"}'\n",
      "eh/gb01/n02/01/035/bystronic01/airpessure/NomRuntime 0 b'{\"variable\": \"NomRuntime\", \"value\": 200, \"unit\": \"minutes\"}'\n",
      "eh/gb01/n02/01/035/bystronic01/airpessure/ActRunmtime 0 b'{\"variable\": \"ActRunmtime\", \"value\": 180, \"unit\": \"minutes\"}'\n",
      "eh/gb01/n02/01/035/bystronic01/airpessure/machineGrp 0 b'{\"variable\": \"machineGrp\", \"value\": \"0C12\", \"unit\": \"group\"}'\n"
     ]
    },
    {
     "ename": "KeyboardInterrupt",
     "evalue": "",
     "output_type": "error",
     "traceback": [
      "\u001b[0;31m---------------------------------------------------------------------------\u001b[0m",
      "\u001b[0;31mKeyboardInterrupt\u001b[0m                         Traceback (most recent call last)",
      "Cell \u001b[0;32mIn[2], line 59\u001b[0m\n\u001b[1;32m     55\u001b[0m client\u001b[38;5;241m.\u001b[39msubscribe(\u001b[38;5;124m\"\u001b[39m\u001b[38;5;124meh/#\u001b[39m\u001b[38;5;124m\"\u001b[39m, qos\u001b[38;5;241m=\u001b[39m\u001b[38;5;241m1\u001b[39m)\n\u001b[1;32m     57\u001b[0m \u001b[38;5;66;03m# loop_forever for simplicity, here you need to stop the loop manually\u001b[39;00m\n\u001b[1;32m     58\u001b[0m \u001b[38;5;66;03m# you can also use loop_start and loop_stop\u001b[39;00m\n\u001b[0;32m---> 59\u001b[0m \u001b[43mclient\u001b[49m\u001b[38;5;241;43m.\u001b[39;49m\u001b[43mloop_forever\u001b[49m\u001b[43m(\u001b[49m\u001b[43m)\u001b[49m\n",
      "File \u001b[0;32m/opt/conda/lib/python3.11/site-packages/paho/mqtt/client.py:1756\u001b[0m, in \u001b[0;36mClient.loop_forever\u001b[0;34m(self, timeout, max_packets, retry_first_connection)\u001b[0m\n\u001b[1;32m   1754\u001b[0m rc \u001b[38;5;241m=\u001b[39m MQTT_ERR_SUCCESS\n\u001b[1;32m   1755\u001b[0m \u001b[38;5;28;01mwhile\u001b[39;00m rc \u001b[38;5;241m==\u001b[39m MQTT_ERR_SUCCESS:\n\u001b[0;32m-> 1756\u001b[0m     rc \u001b[38;5;241m=\u001b[39m \u001b[38;5;28;43mself\u001b[39;49m\u001b[38;5;241;43m.\u001b[39;49m\u001b[43m_loop\u001b[49m\u001b[43m(\u001b[49m\u001b[43mtimeout\u001b[49m\u001b[43m)\u001b[49m\n\u001b[1;32m   1757\u001b[0m     \u001b[38;5;66;03m# We don't need to worry about locking here, because we've\u001b[39;00m\n\u001b[1;32m   1758\u001b[0m     \u001b[38;5;66;03m# either called loop_forever() when in single threaded mode, or\u001b[39;00m\n\u001b[1;32m   1759\u001b[0m     \u001b[38;5;66;03m# in multi threaded mode when loop_stop() has been called and\u001b[39;00m\n\u001b[1;32m   1760\u001b[0m     \u001b[38;5;66;03m# so no other threads can access _out_packet or _messages.\u001b[39;00m\n\u001b[1;32m   1761\u001b[0m     \u001b[38;5;28;01mif\u001b[39;00m (\u001b[38;5;28mself\u001b[39m\u001b[38;5;241m.\u001b[39m_thread_terminate \u001b[38;5;129;01mis\u001b[39;00m \u001b[38;5;28;01mTrue\u001b[39;00m\n\u001b[1;32m   1762\u001b[0m         \u001b[38;5;129;01mand\u001b[39;00m \u001b[38;5;28mlen\u001b[39m(\u001b[38;5;28mself\u001b[39m\u001b[38;5;241m.\u001b[39m_out_packet) \u001b[38;5;241m==\u001b[39m \u001b[38;5;241m0\u001b[39m\n\u001b[1;32m   1763\u001b[0m             \u001b[38;5;129;01mand\u001b[39;00m \u001b[38;5;28mlen\u001b[39m(\u001b[38;5;28mself\u001b[39m\u001b[38;5;241m.\u001b[39m_out_messages) \u001b[38;5;241m==\u001b[39m \u001b[38;5;241m0\u001b[39m):\n",
      "File \u001b[0;32m/opt/conda/lib/python3.11/site-packages/paho/mqtt/client.py:1150\u001b[0m, in \u001b[0;36mClient._loop\u001b[0;34m(self, timeout)\u001b[0m\n\u001b[1;32m   1147\u001b[0m     rlist \u001b[38;5;241m=\u001b[39m [\u001b[38;5;28mself\u001b[39m\u001b[38;5;241m.\u001b[39m_sock, \u001b[38;5;28mself\u001b[39m\u001b[38;5;241m.\u001b[39m_sockpairR]\n\u001b[1;32m   1149\u001b[0m \u001b[38;5;28;01mtry\u001b[39;00m:\n\u001b[0;32m-> 1150\u001b[0m     socklist \u001b[38;5;241m=\u001b[39m select\u001b[38;5;241m.\u001b[39mselect(rlist, wlist, [], timeout)\n\u001b[1;32m   1151\u001b[0m \u001b[38;5;28;01mexcept\u001b[39;00m \u001b[38;5;167;01mTypeError\u001b[39;00m:\n\u001b[1;32m   1152\u001b[0m     \u001b[38;5;66;03m# Socket isn't correct type, in likelihood connection is lost\u001b[39;00m\n\u001b[1;32m   1153\u001b[0m     \u001b[38;5;28;01mreturn\u001b[39;00m MQTT_ERR_CONN_LOST\n",
      "\u001b[0;31mKeyboardInterrupt\u001b[0m: "
     ]
    }
   ],
   "source": [
    "#\n",
    "# Copyright 2021 HiveMQ GmbH\n",
    "#\n",
    "# Licensed under the Apache License, Version 2.0 (the \"License\");\n",
    "# you may not use this file except in compliance with the License.\n",
    "# You may obtain a copy of the License at\n",
    "#\n",
    "#      http://www.apache.org/licenses/LICENSE-2.0\n",
    "#\n",
    "# Unless required by applicable law or agreed to in writing, software\n",
    "# distributed under the License is distributed on an \"AS IS\" BASIS,\n",
    "# WITHOUT WARRANTIES OR CONDITIONS OF ANY KIND, either express or implied.\n",
    "# See the License for the specific language governing permissions and\n",
    "# limitations under the License.\n",
    "#\n",
    "import time\n",
    "import paho.mqtt.client as paho\n",
    "from paho import mqtt\n",
    "\n",
    "# setting callbacks for different events to see if it works, print the message etc.\n",
    "def on_connect(client, userdata, flags, rc, properties=None):\n",
    "    print(\"CONNACK received with code %s.\" % rc)\n",
    "\n",
    "# with this callback you can see if your publish was successful\n",
    "def on_publish(client, userdata, mid, properties=None):\n",
    "    print(\"mid: \" + str(mid))\n",
    "\n",
    "# print which topic was subscribed to\n",
    "def on_subscribe(client, userdata, mid, granted_qos, properties=None):\n",
    "    print(\"Subscribed: \" + str(mid) + \" \" + str(granted_qos))\n",
    "\n",
    "# print message, useful for checking if it was successful\n",
    "def on_message(client, userdata, msg):\n",
    "    print(msg.topic + \" \" + str(msg.qos) + \" \" + str(msg.payload))\n",
    "\n",
    "# using MQTT version 5 here, for 3.1.1: MQTTv311, 3.1: MQTTv31\n",
    "# userdata is user defined data of any type, updated by user_data_set()\n",
    "# client_id is the given name of the client\n",
    "client = paho.Client(client_id=\"\", userdata=None, protocol=paho.MQTTv5)\n",
    "client.on_connect = on_connect\n",
    "\n",
    "# enable TLS for secure connection\n",
    "client.tls_set(tls_version=mqtt.client.ssl.PROTOCOL_TLS)\n",
    "# set username and password\n",
    "client.username_pw_set(\"mqtt_explorer\", \"8kliIkn-owlkm-ow\")\n",
    "# connect to HiveMQ Cloud on port 8883 (default for MQTT)\n",
    "client.connect(\"2fec63f5313749619e6cadcd3272d557.s2.eu.hivemq.cloud\", 8883)\n",
    "\n",
    "# setting callbacks, use separate functions like above for better visibility\n",
    "client.on_subscribe = on_subscribe\n",
    "client.on_message = on_message\n",
    "client.on_publish = on_publish\n",
    "\n",
    "# subscribe to all topics of encyclopedia by using the wildcard \"#\"\n",
    "client.subscribe(\"eh/#\", qos=1)\n",
    "\n",
    "# loop_forever for simplicity, here you need to stop the loop manually\n",
    "# you can also use loop_start and loop_stop\n",
    "client.loop_forever()\n"
   ]
  },
  {
   "cell_type": "code",
   "execution_count": 2,
   "id": "c79f7af2-9ebe-4279-8198-843643087a92",
   "metadata": {},
   "outputs": [
    {
     "name": "stdout",
     "output_type": "stream",
     "text": [
      "\u001b[31mERROR: Could not find a version that satisfies the requirement paho (from versions: none)\u001b[0m\u001b[31m\n",
      "\u001b[0m\u001b[31mERROR: No matching distribution found for paho\u001b[0m\u001b[31m\n",
      "\u001b[0mNote: you may need to restart the kernel to use updated packages.\n"
     ]
    }
   ],
   "source": [
    "pip install paho"
   ]
  },
  {
   "cell_type": "code",
   "execution_count": 4,
   "id": "644202fb-4871-480f-8c49-bfb2d78d8827",
   "metadata": {},
   "outputs": [
    {
     "name": "stdout",
     "output_type": "stream",
     "text": [
      "Collecting paho-mqtt\n",
      "  Downloading paho-mqtt-1.6.1.tar.gz (99 kB)\n",
      "\u001b[2K     \u001b[90m━━━━━━━━━━━━━━━━━━━━━━━━━━━━━━━━━━━━━━━━\u001b[0m \u001b[32m99.4/99.4 kB\u001b[0m \u001b[31m2.5 MB/s\u001b[0m eta \u001b[36m0:00:00\u001b[0ma \u001b[36m0:00:01\u001b[0m\n",
      "\u001b[?25h  Preparing metadata (setup.py) ... \u001b[?25ldone\n",
      "\u001b[?25hBuilding wheels for collected packages: paho-mqtt\n",
      "  Building wheel for paho-mqtt (setup.py) ... \u001b[?25ldone\n",
      "\u001b[?25h  Created wheel for paho-mqtt: filename=paho_mqtt-1.6.1-py3-none-any.whl size=62118 sha256=47b02484dd7beef1bd6f974c2cb3f0d5a5babfb98fbaf61417b4109bc9436cdf\n",
      "  Stored in directory: /home/jovyan/.cache/pip/wheels/29/ea/a5/ba9a63aaf4cd4e16e8a87ee31fb4d11b04ff5e1735d312619a\n",
      "Successfully built paho-mqtt\n",
      "Installing collected packages: paho-mqtt\n",
      "Successfully installed paho-mqtt-1.6.1\n",
      "Note: you may need to restart the kernel to use updated packages.\n"
     ]
    }
   ],
   "source": [
    "pip install paho-mqtt"
   ]
  },
  {
   "cell_type": "code",
   "execution_count": null,
   "id": "2d417d0d-0e0f-4c2c-bbd6-e1ef8751321c",
   "metadata": {},
   "outputs": [],
   "source": []
  },
  {
   "cell_type": "code",
   "execution_count": null,
   "id": "d544f05e-1606-4f4e-af4f-438e1134e81a",
   "metadata": {},
   "outputs": [],
   "source": []
  },
  {
   "cell_type": "code",
   "execution_count": null,
   "id": "e6b2b659-31e8-4150-b1bf-61234775be80",
   "metadata": {},
   "outputs": [],
   "source": []
  }
 ],
 "metadata": {
  "kernelspec": {
   "display_name": "Python 3 (ipykernel)",
   "language": "python",
   "name": "python3"
  },
  "language_info": {
   "codemirror_mode": {
    "name": "ipython",
    "version": 3
   },
   "file_extension": ".py",
   "mimetype": "text/x-python",
   "name": "python",
   "nbconvert_exporter": "python",
   "pygments_lexer": "ipython3",
   "version": "3.11.4"
  }
 },
 "nbformat": 4,
 "nbformat_minor": 5
}
